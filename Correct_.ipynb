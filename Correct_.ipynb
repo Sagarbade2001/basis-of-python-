{
  "nbformat": 4,
  "nbformat_minor": 0,
  "metadata": {
    "colab": {
      "name": "Correct .ipynb",
      "provenance": [],
      "authorship_tag": "ABX9TyMV2GPEfe4MLHq5rMMXPmgz",
      "include_colab_link": true
    },
    "kernelspec": {
      "name": "python3",
      "display_name": "Python 3"
    },
    "language_info": {
      "name": "python"
    }
  },
  "cells": [
    {
      "cell_type": "markdown",
      "metadata": {
        "id": "view-in-github",
        "colab_type": "text"
      },
      "source": [
        "<a href=\"https://colab.research.google.com/github/Sagarbade2001/basis-of-python-/blob/main/Correct_.ipynb\" target=\"_parent\"><img src=\"https://colab.research.google.com/assets/colab-badge.svg\" alt=\"Open In Colab\"/></a>"
      ]
    },
    {
      "cell_type": "code",
      "execution_count": 4,
      "metadata": {
        "colab": {
          "base_uri": "https://localhost:8080/"
        },
        "id": "xLAr333RZkdT",
        "outputId": "f334c6b9-6b03-4b61-9cb5-5d04ce1b7656"
      },
      "outputs": [
        {
          "output_type": "stream",
          "name": "stdout",
          "text": [
            "21\n",
            " a is 2 digit odd number\n"
          ]
        }
      ],
      "source": [
        "b= int(input())\n",
        "c= b%2 \n",
        "if c==1:\n",
        "  if b>10:\n",
        "    print(\" a is 2 digit odd number\")\n",
        "  else:\n",
        "      print(\"a is single odd digit number\")\n",
        "else : \n",
        "  print(\"even\")      "
      ]
    },
    {
      "cell_type": "code",
      "source": [
        ""
      ],
      "metadata": {
        "id": "mKysrubfRQuW"
      },
      "execution_count": null,
      "outputs": []
    }
  ]
}