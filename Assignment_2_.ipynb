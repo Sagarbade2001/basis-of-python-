{
  "nbformat": 4,
  "nbformat_minor": 0,
  "metadata": {
    "colab": {
      "name": "Assignment 2 .ipynb",
      "provenance": [],
      "authorship_tag": "ABX9TyP74yK6PnsrozNnFqxChv5X",
      "include_colab_link": true
    },
    "kernelspec": {
      "name": "python3",
      "display_name": "Python 3"
    },
    "language_info": {
      "name": "python"
    }
  },
  "cells": [
    {
      "cell_type": "markdown",
      "metadata": {
        "id": "view-in-github",
        "colab_type": "text"
      },
      "source": [
        "<a href=\"https://colab.research.google.com/github/Sagarbade2001/basis-of-python-/blob/main/Assignment_2_.ipynb\" target=\"_parent\"><img src=\"https://colab.research.google.com/assets/colab-badge.svg\" alt=\"Open In Colab\"/></a>"
      ]
    },
    {
      "cell_type": "code",
      "execution_count": 1,
      "metadata": {
        "colab": {
          "base_uri": "https://localhost:8080/"
        },
        "id": "bsTSQfwUJbFe",
        "outputId": "2c6a1344-c080-4c5f-f06f-0475bee32949"
      },
      "outputs": [
        {
          "output_type": "stream",
          "name": "stdout",
          "text": [
            "The original string  is : python\n",
            "The reversed string(using loops) is : nohtyp\n"
          ]
        }
      ],
      "source": [
        "### Q1 \n",
        "def reverse(s):\n",
        "  str = \"\"\n",
        "  for i in s:\n",
        "    str = i + str\n",
        "  return str\n",
        "  \n",
        "s = \"python\"\n",
        "  \n",
        "print (\"The original string  is : \",end=\"\")\n",
        "print (s)\n",
        "  \n",
        "print (\"The reversed string(using loops) is : \",end=\"\")\n",
        "print (reverse(s))"
      ]
    },
    {
      "cell_type": "code",
      "source": [
        "##Q2\n",
        "   ## min max using user defined fucntion :\n",
        "def min_max (x):\n",
        "  min=max=x[0]\n",
        "  for i in x[1:]:\n",
        "    if i<min :\n",
        "      min=i\n",
        "    else :\n",
        "      if i>max :\n",
        "        max=i\n",
        "  return (min,max)\n",
        "print(min_max([9,2,21,4,45,34,5435,435,12312,4235]))\n",
        "         \n"
      ],
      "metadata": {
        "colab": {
          "base_uri": "https://localhost:8080/"
        },
        "id": "AnPKjmzfLVhW",
        "outputId": "85c45e1f-307d-4035-9b07-0c142109125f"
      },
      "execution_count": 5,
      "outputs": [
        {
          "output_type": "stream",
          "name": "stdout",
          "text": [
            "(2, 12312)\n"
          ]
        }
      ]
    },
    {
      "cell_type": "code",
      "source": [
        "## Q3\n",
        "# find sum of elements in list \n",
        "total=0\n",
        "#list\n",
        "lista=[32,432,12,566,224]\n",
        "for ele in range(0,len(lista)):\n",
        "  total=total+lista[ele]\n",
        "print(\" sum of the element are \",total)  "
      ],
      "metadata": {
        "colab": {
          "base_uri": "https://localhost:8080/"
        },
        "id": "VbvNw131MzKu",
        "outputId": "2d7adbb9-f879-4e65-fe74-e3f43399e7e4"
      },
      "execution_count": 6,
      "outputs": [
        {
          "output_type": "stream",
          "name": "stdout",
          "text": [
            " sum of the element are  1266\n"
          ]
        }
      ]
    },
    {
      "cell_type": "code",
      "source": [
        "##Q4\n",
        "# number of local variables in a fuc\n",
        "\n",
        "def fun():\n",
        "  a,b,c=2,3.5,221\n",
        "  str=\" sagar \"\n",
        "print(fun.__code__.co_nlocals)  \n"
      ],
      "metadata": {
        "colab": {
          "base_uri": "https://localhost:8080/"
        },
        "id": "XHch76tJNSk0",
        "outputId": "73e8e6eb-644c-45dc-a3bf-770e675b1bac"
      },
      "execution_count": 7,
      "outputs": [
        {
          "output_type": "stream",
          "name": "stdout",
          "text": [
            "4\n"
          ]
        }
      ]
    },
    {
      "cell_type": "code",
      "source": [
        "##Q5\n",
        "# to print even numbers \n",
        "list11=[19,80,21,26,54]\n",
        "for num in list11:\n",
        "  if num%2==0 :\n",
        "    print(num,end=\" \")\n"
      ],
      "metadata": {
        "colab": {
          "base_uri": "https://localhost:8080/"
        },
        "id": "MQvrVTRoOEV1",
        "outputId": "1fe1c6ea-55bd-4b2b-c325-fd6673768355"
      },
      "execution_count": 9,
      "outputs": [
        {
          "output_type": "stream",
          "name": "stdout",
          "text": [
            "80 26 54 "
          ]
        }
      ]
    }
  ]
}