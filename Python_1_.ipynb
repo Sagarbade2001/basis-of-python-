{
  "nbformat": 4,
  "nbformat_minor": 0,
  "metadata": {
    "colab": {
      "name": "Python 1 .ipynb",
      "provenance": [],
      "collapsed_sections": []
    },
    "kernelspec": {
      "name": "python3",
      "display_name": "Python 3"
    },
    "language_info": {
      "name": "python"
    }
  },
  "cells": [
    {
      "cell_type": "code",
      "execution_count": null,
      "metadata": {
        "colab": {
          "base_uri": "https://localhost:8080/",
          "height": 38
        },
        "id": "TONQ9y1h-sm_",
        "outputId": "6c8d06a6-bb33-4ff1-e18f-43851efb9e6d"
      },
      "outputs": [
        {
          "output_type": "execute_result",
          "data": {
            "text/plain": [
              "'sagar'"
            ],
            "application/vnd.google.colaboratory.intrinsic+json": {
              "type": "string"
            }
          },
          "metadata": {},
          "execution_count": 2
        }
      ],
      "source": [
        "a=\"sagar bagde\"\n",
        "a"
      ]
    },
    {
      "cell_type": "markdown",
      "source": [
        "# New Section"
      ],
      "metadata": {
        "id": "Gh9vgbVOLpkj"
      }
    },
    {
      "cell_type": "code",
      "source": [
        "x,y= 7,10\n",
        "print(\"addition \",x+y)\n",
        "print(\"modulus\",y%x)\n",
        "print(\"floor division\",x//y)"
      ],
      "metadata": {
        "colab": {
          "base_uri": "https://localhost:8080/"
        },
        "id": "yKxmINEO-zvv",
        "outputId": "40050dd2-a656-417f-c485-efb7a8e63eac"
      },
      "execution_count": null,
      "outputs": [
        {
          "output_type": "stream",
          "name": "stdout",
          "text": [
            "addition  17\n",
            "modulus 3\n",
            "floor division 0\n"
          ]
        }
      ]
    }
  ]
}