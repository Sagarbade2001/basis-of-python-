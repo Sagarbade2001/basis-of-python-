{
  "nbformat": 4,
  "nbformat_minor": 0,
  "metadata": {
    "colab": {
      "name": "Python 1 .ipynb",
      "provenance": [],
      "collapsed_sections": [],
      "authorship_tag": "ABX9TyPK5vhF5+7w8aaw/f33XXWV",
      "include_colab_link": true
    },
    "kernelspec": {
      "name": "python3",
      "display_name": "Python 3"
    },
    "language_info": {
      "name": "python"
    }
  },
  "cells": [
    {
      "cell_type": "markdown",
      "metadata": {
        "id": "view-in-github",
        "colab_type": "text"
      },
      "source": [
        "<a href=\"https://colab.research.google.com/github/Sagarbade2001/basis-of-python-/blob/main/basic%20of%20Python_1_.ipynb\" target=\"_parent\"><img src=\"https://colab.research.google.com/assets/colab-badge.svg\" alt=\"Open In Colab\"/></a>"
      ]
    },
    {
      "cell_type": "code",
      "execution_count": null,
      "metadata": {
        "colab": {
          "base_uri": "https://localhost:8080/",
          "height": 38
        },
        "id": "TONQ9y1h-sm_",
        "outputId": "6c8d06a6-bb33-4ff1-e18f-43851efb9e6d"
      },
      "outputs": [
        {
          "output_type": "execute_result",
          "data": {
            "text/plain": [
              "'sagar'"
            ],
            "application/vnd.google.colaboratory.intrinsic+json": {
              "type": "string"
            }
          },
          "metadata": {},
          "execution_count": 2
        }
      ],
      "source": [
        "a=\"sagar bagde\"\n",
        "a"
      ]
    },
    {
      "cell_type": "markdown",
      "source": [
        "# New Section"
      ],
      "metadata": {
        "id": "Gh9vgbVOLpkj"
      }
    },
    {
      "cell_type": "code",
      "source": [
        "x,y= 7,10\n",
        "print(\"addition \",x+y)\n",
        "print(\"subtraction \",x-y)\n",
        "print(\"multiplication\",x*y)\n",
        "print(\"modulus\",y%x)\n",
        "print(\"floor division\",x//y)"
      ],
      "metadata": {
        "colab": {
          "base_uri": "https://localhost:8080/"
        },
        "id": "yKxmINEO-zvv",
        "outputId": "e6fd9121-df20-461d-b3bf-134ff656d7dc"
      },
      "execution_count": 1,
      "outputs": [
        {
          "output_type": "stream",
          "name": "stdout",
          "text": [
            "addition  17\n",
            "subtraction  -3\n",
            "multiplication 70\n",
            "modulus 3\n",
            "floor division 0\n"
          ]
        }
      ]
    }
  ]
}