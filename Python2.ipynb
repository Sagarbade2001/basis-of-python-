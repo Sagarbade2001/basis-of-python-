{
  "nbformat": 4,
  "nbformat_minor": 0,
  "metadata": {
    "colab": {
      "name": "Python2",
      "provenance": [],
      "collapsed_sections": [],
      "authorship_tag": "ABX9TyMonSGlHmLm14bd3HJEhZQO",
      "include_colab_link": true
    },
    "kernelspec": {
      "name": "python3",
      "display_name": "Python 3"
    },
    "language_info": {
      "name": "python"
    }
  },
  "cells": [
    {
      "cell_type": "markdown",
      "metadata": {
        "id": "view-in-github",
        "colab_type": "text"
      },
      "source": [
        "<a href=\"https://colab.research.google.com/github/Sagarbade2001/basis-of-python-/blob/main/Python2.ipynb\" target=\"_parent\"><img src=\"https://colab.research.google.com/assets/colab-badge.svg\" alt=\"Open In Colab\"/></a>"
      ]
    },
    {
      "cell_type": "code",
      "execution_count": null,
      "metadata": {
        "colab": {
          "base_uri": "https://localhost:8080/"
        },
        "id": "sr7epgAuWQLQ",
        "outputId": "7699707f-de80-46a4-d221-d32f7e8f3333"
      },
      "outputs": [
        {
          "output_type": "stream",
          "name": "stdout",
          "text": [
            "10\n",
            "5\n"
          ]
        }
      ],
      "source": [
        " a=15 #global variable.\n",
        "def sb():\n",
        "  #a=10 # local variable , when defined , function will take values form local .\n",
        "  b = 5 # local variable\n",
        "  print(a)\n",
        "  print(b)\n",
        " sb()"
      ]
    },
    {
      "cell_type": "code",
      "source": [
        "n= \" sagar \"\n",
        "n"
      ],
      "metadata": {
        "colab": {
          "base_uri": "https://localhost:8080/",
          "height": 37
        },
        "id": "HEI7ewDJXlla",
        "outputId": "4ab154a5-0896-470a-ea5b-cd63fac032a0"
      },
      "execution_count": null,
      "outputs": [
        {
          "output_type": "execute_result",
          "data": {
            "text/plain": [
              "' sagar '"
            ],
            "application/vnd.google.colaboratory.intrinsic+json": {
              "type": "string"
            }
          },
          "metadata": {},
          "execution_count": 13
        }
      ]
    },
    {
      "cell_type": "code",
      "source": [
        "\n",
        "Name2 = \"Sagar\"\n",
        "Surname2= \" Bagde\"\n",
        "Name2+ \" \"+ Surname2 "
      ],
      "metadata": {
        "colab": {
          "base_uri": "https://localhost:8080/",
          "height": 37
        },
        "id": "HINP4vEgcIms",
        "outputId": "4520e5db-bcf3-4aff-e681-d942e139f62c"
      },
      "execution_count": null,
      "outputs": [
        {
          "output_type": "execute_result",
          "data": {
            "text/plain": [
              "'Sagar  Bagde'"
            ],
            "application/vnd.google.colaboratory.intrinsic+json": {
              "type": "string"
            }
          },
          "metadata": {},
          "execution_count": 50
        }
      ]
    },
    {
      "cell_type": "code",
      "source": [
        "a=2.3\n",
        "b=312\n",
        "c=3J\n",
        "inta=int(a)\n",
        "floatb=float(b)\n",
        "#intc=int(c) cant make complex into int'\n",
        "print(inta,floatb)\n",
        "com=complex(a,b)\n",
        "print(com)    # printing the initial values that were given before converting .\n",
        "com1=complex(inta,floatb)\n",
        "print(com1) # converted values\n"
      ],
      "metadata": {
        "colab": {
          "base_uri": "https://localhost:8080/"
        },
        "id": "OW2Na3cxcVyB",
        "outputId": "6cd4470d-25ce-4f1d-9f27-ea0cf01b199d"
      },
      "execution_count": null,
      "outputs": [
        {
          "output_type": "stream",
          "name": "stdout",
          "text": [
            "2 312.0\n",
            "(2.3+312j)\n",
            "(2+312j)\n"
          ]
        }
      ]
    },
    {
      "cell_type": "code",
      "source": [
        "Name=\"sagar\"\n",
        "Name.upper()"
      ],
      "metadata": {
        "colab": {
          "base_uri": "https://localhost:8080/",
          "height": 37
        },
        "id": "46JDbbAwgF0O",
        "outputId": "6e59d607-fd35-42e1-b8ba-6eaa66158562"
      },
      "execution_count": null,
      "outputs": [
        {
          "output_type": "execute_result",
          "data": {
            "text/plain": [
              "'SAGAR'"
            ],
            "application/vnd.google.colaboratory.intrinsic+json": {
              "type": "string"
            }
          },
          "metadata": {},
          "execution_count": 51
        }
      ]
    },
    {
      "cell_type": "code",
      "source": [
        "name=input()\n",
        "age=input()\n",
        "Class=\" TYBSc\"\n",
        "Clg=\" SPC\"\n",
        "\"My Name is {} and i am  {} years old , i am in class {} in {}\".format(name,age,Class,Clg)\n",
        "\n"
      ],
      "metadata": {
        "colab": {
          "base_uri": "https://localhost:8080/",
          "height": 71
        },
        "id": "vl5gon4Ei2Wg",
        "outputId": "96ec78a6-0589-459c-84f2-86024b837de8"
      },
      "execution_count": null,
      "outputs": [
        {
          "name": "stdout",
          "output_type": "stream",
          "text": [
            "Sagar\n",
            "21\n"
          ]
        },
        {
          "output_type": "execute_result",
          "data": {
            "text/plain": [
              "'My Name is Sagar and i am  21 years old , i am in class  TYBSc in  SPC'"
            ],
            "application/vnd.google.colaboratory.intrinsic+json": {
              "type": "string"
            }
          },
          "metadata": {},
          "execution_count": 52
        }
      ]
    },
    {
      "cell_type": "code",
      "source": [
        "quant=4\n",
        "item=\" pastry\"\n",
        "country= \" India\"\n",
        "myorder=\" i want {a} pieces for {b} in {c} country\"\n",
        "print(myorder.format(a=quant,b=item,c=country))\n"
      ],
      "metadata": {
        "colab": {
          "base_uri": "https://localhost:8080/"
        },
        "id": "ai57f-DRnK0t",
        "outputId": "42d075ca-a759-491b-d8db-6302c2705990"
      },
      "execution_count": null,
      "outputs": [
        {
          "output_type": "stream",
          "name": "stdout",
          "text": [
            " i want 4 pieces for  pastry in  India country\n"
          ]
        }
      ]
    }
  ]
}