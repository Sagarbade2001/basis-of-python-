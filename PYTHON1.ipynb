{
  "nbformat": 4,
  "nbformat_minor": 0,
  "metadata": {
    "colab": {
      "name": "PYTHON1.ipynb",
      "provenance": [],
      "authorship_tag": "ABX9TyMIhti81KZ0WBp1xV/gp3qN",
      "include_colab_link": true
    },
    "kernelspec": {
      "name": "python3",
      "display_name": "Python 3"
    },
    "language_info": {
      "name": "python"
    }
  },
  "cells": [
    {
      "cell_type": "markdown",
      "metadata": {
        "id": "view-in-github",
        "colab_type": "text"
      },
      "source": [
        "<a href=\"https://colab.research.google.com/github/Sagarbade2001/basis-of-python-/blob/main/PYTHON1.ipynb\" target=\"_parent\"><img src=\"https://colab.research.google.com/assets/colab-badge.svg\" alt=\"Open In Colab\"/></a>"
      ]
    },
    {
      "cell_type": "code",
      "execution_count": 10,
      "metadata": {
        "colab": {
          "base_uri": "https://localhost:8080/"
        },
        "id": "WJ689WUQS2XJ",
        "outputId": "02f001db-ce7c-46ec-ab87-b0b1d3a7ab80"
      },
      "outputs": [
        {
          "output_type": "stream",
          "name": "stdout",
          "text": [
            "statistics\n",
            "Sagarbagde2001\n"
          ]
        }
      ],
      "source": [
        "Name =\" Sagar bagde\"\n",
        "Department = 'statistics'\n",
        "github_id = 'Sagarbagde2001'\n",
        "Name \n",
        "print(Department) \n",
        "print(github_id)"
      ]
    },
    {
      "cell_type": "code",
      "source": [
        "b = 44\n",
        "c =\"44\"\n",
        "#44 is Number\n",
        "# \"44\" is string"
      ],
      "metadata": {
        "id": "B7uLQgl3Td3M"
      },
      "execution_count": 11,
      "outputs": []
    },
    {
      "cell_type": "code",
      "source": [
        "# Commen\n",
        "# To write down the Multiple line Comment\n",
        "\"\"\"ajdkahdjba isf jksd\n",
        "sagdhjashdashdkjasblkjd chio\"\"\""
      ],
      "metadata": {
        "colab": {
          "base_uri": "https://localhost:8080/",
          "height": 37
        },
        "id": "UDZ7dZ4FUaMm",
        "outputId": "1477bae9-c821-4be9-b0d8-31f2373a6173"
      },
      "execution_count": 12,
      "outputs": [
        {
          "output_type": "execute_result",
          "data": {
            "text/plain": [
              "'ajdkahdjba isf jksd\\nsagdhjashdashdkjasblkjd chio'"
            ],
            "application/vnd.google.colaboratory.intrinsic+json": {
              "type": "string"
            }
          },
          "metadata": {},
          "execution_count": 12
        }
      ]
    },
    {
      "cell_type": "code",
      "source": [
        "# To declare the Variable\n",
        "#Variable can only be start from A-Z,a-z,_\n",
        "#We cann't keywords in Python as a Variable\n",
        "#As Python is Case Sensative laungauge A & a is different variable\n",
        "SA_ = 1\n",
        "sa_ =2\n",
        "sa = 3\n",
        "SA = 4"
      ],
      "metadata": {
        "id": "Kn7I0xBxU_y8"
      },
      "execution_count": 13,
      "outputs": []
    },
    {
      "cell_type": "code",
      "source": [
        "# Python as A Calculator\n",
        "x,y  = 15, 9\n",
        "print(\"Addition=\",x+y)\n",
        "print(\"Subtraction=\",x-y)\n",
        "print(\"Multiplication=\",x*y)  \n",
        "print(\"Division=\",x/y)\n",
        "print(\"Power=\",x**y)\n",
        "print(\"Modulus=\",x%y)\n",
        "print(\"Floor division=\",x//y)"
      ],
      "metadata": {
        "colab": {
          "base_uri": "https://localhost:8080/"
        },
        "id": "UJVyKRC0VFDM",
        "outputId": "53f8f0a5-e930-4f41-b6cd-82ad0d26f8d2"
      },
      "execution_count": 15,
      "outputs": [
        {
          "output_type": "stream",
          "name": "stdout",
          "text": [
            "Addition= 24\n",
            "Subtraction= 6\n",
            "Multiplication= 135\n",
            "Division= 1.6666666666666667\n",
            "Power= 38443359375\n",
            "Modulus= 6\n",
            "Floor division= 1\n"
          ]
        }
      ]
    },
    {
      "cell_type": "code",
      "source": [
        "#Assigning Multiple Values to a Variable\n",
        "x, y, z,a,b,c,f = \"Orange\", \"Banana\", \"Cherry\",241,\"fwdfwe\",\"3235\",\"sdasd\"\n",
        "print(x)\n",
        "print(y)\n",
        "print(z)\n",
        "print(a)\n",
        "print(b)\n",
        "print(c)"
      ],
      "metadata": {
        "colab": {
          "base_uri": "https://localhost:8080/"
        },
        "id": "-55ZcJcbVkTK",
        "outputId": "c35bde0b-d42b-4e64-f54c-76dd2ab04b83"
      },
      "execution_count": 16,
      "outputs": [
        {
          "output_type": "stream",
          "name": "stdout",
          "text": [
            "Orange\n",
            "Banana\n",
            "Cherry\n",
            "241\n",
            "fwdfwe\n",
            "3235\n"
          ]
        }
      ]
    }
  ]
}